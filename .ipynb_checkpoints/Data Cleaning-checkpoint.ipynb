{
 "cells": [
  {
   "cell_type": "markdown",
   "id": "bab30295",
   "metadata": {},
   "source": [
    "# How does the non-football attributes of a footballer affect his wages?"
   ]
  },
  {
   "cell_type": "markdown",
   "id": "0901a42c",
   "metadata": {},
   "source": [
    "### Essential Libraries\n",
    "\n",
    "Let us begin by importing the essential Python Libraries.\n",
    "\n",
    "> NumPy : Library for Numeric Computations in Python  \n",
    "> Pandas : Library for Data Acquisition and Preparation  \n",
    "> Matplotlib : Low-level library for Data Visualization  \n",
    "> Seaborn : Higher-level library for Data Visualization  "
   ]
  },
  {
   "cell_type": "code",
   "execution_count": 1,
   "id": "83501980",
   "metadata": {},
   "outputs": [],
   "source": [
    "# Basic Libraries\n",
    "\n",
    "import numpy as np\n",
    "import pandas as pd\n",
    "import seaborn as sb\n",
    "import matplotlib.pyplot as plt # we only need pyplot\n",
    "sb.set() # set the default Seaborn style for graphics"
   ]
  },
  {
   "cell_type": "markdown",
   "id": "7661fbc4",
   "metadata": {},
   "source": [
    "### Import the Fifa Dataset\n",
    "\n",
    "The dataset is in CSV format; hence we use the `read_csv` function from Pandas to impart the FIFA 19 Dataset"
   ]
  },
  {
   "cell_type": "code",
   "execution_count": 2,
   "id": "deba937a",
   "metadata": {},
   "outputs": [
    {
     "data": {
      "text/html": [
       "<div>\n",
       "<style scoped>\n",
       "    .dataframe tbody tr th:only-of-type {\n",
       "        vertical-align: middle;\n",
       "    }\n",
       "\n",
       "    .dataframe tbody tr th {\n",
       "        vertical-align: top;\n",
       "    }\n",
       "\n",
       "    .dataframe thead th {\n",
       "        text-align: right;\n",
       "    }\n",
       "</style>\n",
       "<table border=\"1\" class=\"dataframe\">\n",
       "  <thead>\n",
       "    <tr style=\"text-align: right;\">\n",
       "      <th></th>\n",
       "      <th>Unnamed: 0</th>\n",
       "      <th>ID</th>\n",
       "      <th>Name</th>\n",
       "      <th>Age</th>\n",
       "      <th>Photo</th>\n",
       "      <th>Nationality</th>\n",
       "      <th>Flag</th>\n",
       "      <th>Overall</th>\n",
       "      <th>Potential</th>\n",
       "      <th>Club</th>\n",
       "      <th>...</th>\n",
       "      <th>Composure</th>\n",
       "      <th>Marking</th>\n",
       "      <th>StandingTackle</th>\n",
       "      <th>SlidingTackle</th>\n",
       "      <th>GKDiving</th>\n",
       "      <th>GKHandling</th>\n",
       "      <th>GKKicking</th>\n",
       "      <th>GKPositioning</th>\n",
       "      <th>GKReflexes</th>\n",
       "      <th>Release Clause</th>\n",
       "    </tr>\n",
       "  </thead>\n",
       "  <tbody>\n",
       "    <tr>\n",
       "      <th>0</th>\n",
       "      <td>0</td>\n",
       "      <td>158023</td>\n",
       "      <td>L. Messi</td>\n",
       "      <td>31</td>\n",
       "      <td>https://cdn.sofifa.org/players/4/19/158023.png</td>\n",
       "      <td>Argentina</td>\n",
       "      <td>https://cdn.sofifa.org/flags/52.png</td>\n",
       "      <td>94</td>\n",
       "      <td>94</td>\n",
       "      <td>FC Barcelona</td>\n",
       "      <td>...</td>\n",
       "      <td>96.0</td>\n",
       "      <td>33.0</td>\n",
       "      <td>28.0</td>\n",
       "      <td>26.0</td>\n",
       "      <td>6.0</td>\n",
       "      <td>11.0</td>\n",
       "      <td>15.0</td>\n",
       "      <td>14.0</td>\n",
       "      <td>8.0</td>\n",
       "      <td>€226.5M</td>\n",
       "    </tr>\n",
       "    <tr>\n",
       "      <th>1</th>\n",
       "      <td>1</td>\n",
       "      <td>20801</td>\n",
       "      <td>Cristiano Ronaldo</td>\n",
       "      <td>33</td>\n",
       "      <td>https://cdn.sofifa.org/players/4/19/20801.png</td>\n",
       "      <td>Portugal</td>\n",
       "      <td>https://cdn.sofifa.org/flags/38.png</td>\n",
       "      <td>94</td>\n",
       "      <td>94</td>\n",
       "      <td>Juventus</td>\n",
       "      <td>...</td>\n",
       "      <td>95.0</td>\n",
       "      <td>28.0</td>\n",
       "      <td>31.0</td>\n",
       "      <td>23.0</td>\n",
       "      <td>7.0</td>\n",
       "      <td>11.0</td>\n",
       "      <td>15.0</td>\n",
       "      <td>14.0</td>\n",
       "      <td>11.0</td>\n",
       "      <td>€127.1M</td>\n",
       "    </tr>\n",
       "    <tr>\n",
       "      <th>2</th>\n",
       "      <td>2</td>\n",
       "      <td>190871</td>\n",
       "      <td>Neymar Jr</td>\n",
       "      <td>26</td>\n",
       "      <td>https://cdn.sofifa.org/players/4/19/190871.png</td>\n",
       "      <td>Brazil</td>\n",
       "      <td>https://cdn.sofifa.org/flags/54.png</td>\n",
       "      <td>92</td>\n",
       "      <td>93</td>\n",
       "      <td>Paris Saint-Germain</td>\n",
       "      <td>...</td>\n",
       "      <td>94.0</td>\n",
       "      <td>27.0</td>\n",
       "      <td>24.0</td>\n",
       "      <td>33.0</td>\n",
       "      <td>9.0</td>\n",
       "      <td>9.0</td>\n",
       "      <td>15.0</td>\n",
       "      <td>15.0</td>\n",
       "      <td>11.0</td>\n",
       "      <td>€228.1M</td>\n",
       "    </tr>\n",
       "    <tr>\n",
       "      <th>3</th>\n",
       "      <td>3</td>\n",
       "      <td>193080</td>\n",
       "      <td>De Gea</td>\n",
       "      <td>27</td>\n",
       "      <td>https://cdn.sofifa.org/players/4/19/193080.png</td>\n",
       "      <td>Spain</td>\n",
       "      <td>https://cdn.sofifa.org/flags/45.png</td>\n",
       "      <td>91</td>\n",
       "      <td>93</td>\n",
       "      <td>Manchester United</td>\n",
       "      <td>...</td>\n",
       "      <td>68.0</td>\n",
       "      <td>15.0</td>\n",
       "      <td>21.0</td>\n",
       "      <td>13.0</td>\n",
       "      <td>90.0</td>\n",
       "      <td>85.0</td>\n",
       "      <td>87.0</td>\n",
       "      <td>88.0</td>\n",
       "      <td>94.0</td>\n",
       "      <td>€138.6M</td>\n",
       "    </tr>\n",
       "    <tr>\n",
       "      <th>4</th>\n",
       "      <td>4</td>\n",
       "      <td>192985</td>\n",
       "      <td>K. De Bruyne</td>\n",
       "      <td>27</td>\n",
       "      <td>https://cdn.sofifa.org/players/4/19/192985.png</td>\n",
       "      <td>Belgium</td>\n",
       "      <td>https://cdn.sofifa.org/flags/7.png</td>\n",
       "      <td>91</td>\n",
       "      <td>92</td>\n",
       "      <td>Manchester City</td>\n",
       "      <td>...</td>\n",
       "      <td>88.0</td>\n",
       "      <td>68.0</td>\n",
       "      <td>58.0</td>\n",
       "      <td>51.0</td>\n",
       "      <td>15.0</td>\n",
       "      <td>13.0</td>\n",
       "      <td>5.0</td>\n",
       "      <td>10.0</td>\n",
       "      <td>13.0</td>\n",
       "      <td>€196.4M</td>\n",
       "    </tr>\n",
       "  </tbody>\n",
       "</table>\n",
       "<p>5 rows × 89 columns</p>\n",
       "</div>"
      ],
      "text/plain": [
       "   Unnamed: 0      ID               Name  Age  \\\n",
       "0           0  158023           L. Messi   31   \n",
       "1           1   20801  Cristiano Ronaldo   33   \n",
       "2           2  190871          Neymar Jr   26   \n",
       "3           3  193080             De Gea   27   \n",
       "4           4  192985       K. De Bruyne   27   \n",
       "\n",
       "                                            Photo Nationality  \\\n",
       "0  https://cdn.sofifa.org/players/4/19/158023.png   Argentina   \n",
       "1   https://cdn.sofifa.org/players/4/19/20801.png    Portugal   \n",
       "2  https://cdn.sofifa.org/players/4/19/190871.png      Brazil   \n",
       "3  https://cdn.sofifa.org/players/4/19/193080.png       Spain   \n",
       "4  https://cdn.sofifa.org/players/4/19/192985.png     Belgium   \n",
       "\n",
       "                                  Flag  Overall  Potential  \\\n",
       "0  https://cdn.sofifa.org/flags/52.png       94         94   \n",
       "1  https://cdn.sofifa.org/flags/38.png       94         94   \n",
       "2  https://cdn.sofifa.org/flags/54.png       92         93   \n",
       "3  https://cdn.sofifa.org/flags/45.png       91         93   \n",
       "4   https://cdn.sofifa.org/flags/7.png       91         92   \n",
       "\n",
       "                  Club  ... Composure Marking StandingTackle  SlidingTackle  \\\n",
       "0         FC Barcelona  ...      96.0    33.0           28.0           26.0   \n",
       "1             Juventus  ...      95.0    28.0           31.0           23.0   \n",
       "2  Paris Saint-Germain  ...      94.0    27.0           24.0           33.0   \n",
       "3    Manchester United  ...      68.0    15.0           21.0           13.0   \n",
       "4      Manchester City  ...      88.0    68.0           58.0           51.0   \n",
       "\n",
       "  GKDiving  GKHandling  GKKicking  GKPositioning GKReflexes Release Clause  \n",
       "0      6.0        11.0       15.0           14.0        8.0        €226.5M  \n",
       "1      7.0        11.0       15.0           14.0       11.0        €127.1M  \n",
       "2      9.0         9.0       15.0           15.0       11.0        €228.1M  \n",
       "3     90.0        85.0       87.0           88.0       94.0        €138.6M  \n",
       "4     15.0        13.0        5.0           10.0       13.0        €196.4M  \n",
       "\n",
       "[5 rows x 89 columns]"
      ]
     },
     "execution_count": 2,
     "metadata": {},
     "output_type": "execute_result"
    }
   ],
   "source": [
    "fifaData = pd.read_csv('Fifa 19.csv')\n",
    "fifaData.head()"
   ]
  },
  {
   "cell_type": "code",
   "execution_count": 4,
   "id": "fe90c531",
   "metadata": {
    "scrolled": false
   },
   "outputs": [
    {
     "name": "stdout",
     "output_type": "stream",
     "text": [
      "<class 'pandas.core.frame.DataFrame'>\n",
      "RangeIndex: 18207 entries, 0 to 18206\n",
      "Data columns (total 89 columns):\n",
      " #   Column                    Non-Null Count  Dtype  \n",
      "---  ------                    --------------  -----  \n",
      " 0   Unnamed: 0                18207 non-null  int64  \n",
      " 1   ID                        18207 non-null  int64  \n",
      " 2   Name                      18207 non-null  object \n",
      " 3   Age                       18207 non-null  int64  \n",
      " 4   Photo                     18207 non-null  object \n",
      " 5   Nationality               18207 non-null  object \n",
      " 6   Flag                      18207 non-null  object \n",
      " 7   Overall                   18207 non-null  int64  \n",
      " 8   Potential                 18207 non-null  int64  \n",
      " 9   Club                      17966 non-null  object \n",
      " 10  Club Logo                 18207 non-null  object \n",
      " 11  Value                     18207 non-null  object \n",
      " 12  Wage                      18207 non-null  object \n",
      " 13  Special                   18207 non-null  int64  \n",
      " 14  Preferred Foot            18159 non-null  object \n",
      " 15  International Reputation  18159 non-null  float64\n",
      " 16  Weak Foot                 18159 non-null  float64\n",
      " 17  Skill Moves               18159 non-null  float64\n",
      " 18  Work Rate                 18159 non-null  object \n",
      " 19  Body Type                 18159 non-null  object \n",
      " 20  Real Face                 18159 non-null  object \n",
      " 21  Position                  18147 non-null  object \n",
      " 22  Jersey Number             18147 non-null  float64\n",
      " 23  Joined                    16654 non-null  object \n",
      " 24  Loaned From               1264 non-null   object \n",
      " 25  Contract Valid Until      17918 non-null  object \n",
      " 26  Height                    18159 non-null  object \n",
      " 27  Weight                    18159 non-null  object \n",
      " 28  LS                        16122 non-null  object \n",
      " 29  ST                        16122 non-null  object \n",
      " 30  RS                        16122 non-null  object \n",
      " 31  LW                        16122 non-null  object \n",
      " 32  LF                        16122 non-null  object \n",
      " 33  CF                        16122 non-null  object \n",
      " 34  RF                        16122 non-null  object \n",
      " 35  RW                        16122 non-null  object \n",
      " 36  LAM                       16122 non-null  object \n",
      " 37  CAM                       16122 non-null  object \n",
      " 38  RAM                       16122 non-null  object \n",
      " 39  LM                        16122 non-null  object \n",
      " 40  LCM                       16122 non-null  object \n",
      " 41  CM                        16122 non-null  object \n",
      " 42  RCM                       16122 non-null  object \n",
      " 43  RM                        16122 non-null  object \n",
      " 44  LWB                       16122 non-null  object \n",
      " 45  LDM                       16122 non-null  object \n",
      " 46  CDM                       16122 non-null  object \n",
      " 47  RDM                       16122 non-null  object \n",
      " 48  RWB                       16122 non-null  object \n",
      " 49  LB                        16122 non-null  object \n",
      " 50  LCB                       16122 non-null  object \n",
      " 51  CB                        16122 non-null  object \n",
      " 52  RCB                       16122 non-null  object \n",
      " 53  RB                        16122 non-null  object \n",
      " 54  Crossing                  18159 non-null  float64\n",
      " 55  Finishing                 18159 non-null  float64\n",
      " 56  HeadingAccuracy           18159 non-null  float64\n",
      " 57  ShortPassing              18159 non-null  float64\n",
      " 58  Volleys                   18159 non-null  float64\n",
      " 59  Dribbling                 18159 non-null  float64\n",
      " 60  Curve                     18159 non-null  float64\n",
      " 61  FKAccuracy                18159 non-null  float64\n",
      " 62  LongPassing               18159 non-null  float64\n",
      " 63  BallControl               18159 non-null  float64\n",
      " 64  Acceleration              18159 non-null  float64\n",
      " 65  SprintSpeed               18159 non-null  float64\n",
      " 66  Agility                   18159 non-null  float64\n",
      " 67  Reactions                 18159 non-null  float64\n",
      " 68  Balance                   18159 non-null  float64\n",
      " 69  ShotPower                 18159 non-null  float64\n",
      " 70  Jumping                   18159 non-null  float64\n",
      " 71  Stamina                   18159 non-null  float64\n",
      " 72  Strength                  18159 non-null  float64\n",
      " 73  LongShots                 18159 non-null  float64\n",
      " 74  Aggression                18159 non-null  float64\n",
      " 75  Interceptions             18159 non-null  float64\n",
      " 76  Positioning               18159 non-null  float64\n",
      " 77  Vision                    18159 non-null  float64\n",
      " 78  Penalties                 18159 non-null  float64\n",
      " 79  Composure                 18159 non-null  float64\n",
      " 80  Marking                   18159 non-null  float64\n",
      " 81  StandingTackle            18159 non-null  float64\n",
      " 82  SlidingTackle             18159 non-null  float64\n",
      " 83  GKDiving                  18159 non-null  float64\n",
      " 84  GKHandling                18159 non-null  float64\n",
      " 85  GKKicking                 18159 non-null  float64\n",
      " 86  GKPositioning             18159 non-null  float64\n",
      " 87  GKReflexes                18159 non-null  float64\n",
      " 88  Release Clause            16643 non-null  object \n",
      "dtypes: float64(38), int64(6), object(45)\n",
      "memory usage: 12.4+ MB\n"
     ]
    }
   ],
   "source": [
    "fifaData.info()"
   ]
  },
  {
   "cell_type": "markdown",
   "id": "01850093",
   "metadata": {},
   "source": [
    "### Dropping the columns of data that cannot be used \n",
    "\n",
    "Firstly, we decided to drop the columns of data which contains variables that definitely cannot be used in determining wages. This is because it does not give any valuable information whatsoever.\n",
    "\n",
    "The columns are 'ID', 'Photo', 'Flag', 'Club', 'Club Logo','Value', 'Special', 'Preferred Foot', 'Work Rate', \n",
    "               'International Reputation', 'Weak Foot', 'Position', 'Skill Moves', 'Body Type', \n",
    "               'Real Face', 'Jersey Number', 'Joined', 'Loaned From', 'Contract Valid Until' and \n",
    "               'Release Clause'"
   ]
  },
  {
   "cell_type": "code",
   "execution_count": 5,
   "id": "9fa41c4e",
   "metadata": {},
   "outputs": [],
   "source": [
    "fifaData.drop(['ID', 'Photo', 'Flag', 'Club', 'Club Logo', 'Value', 'Special', 'Preferred Foot', 'Work Rate', \n",
    "               'International Reputation', 'Weak Foot', 'Position', 'Skill Moves', 'Body Type', \n",
    "               'Real Face', 'Jersey Number', 'Joined', 'Loaned From', 'Contract Valid Until', \n",
    "               'Release Clause'], axis = 1, inplace = True)"
   ]
  },
  {
   "cell_type": "code",
   "execution_count": 6,
   "id": "fb05e6d8",
   "metadata": {},
   "outputs": [
    {
     "name": "stdout",
     "output_type": "stream",
     "text": [
      "<class 'pandas.core.frame.DataFrame'>\n",
      "RangeIndex: 18207 entries, 0 to 18206\n",
      "Data columns (total 69 columns):\n",
      " #   Column           Non-Null Count  Dtype  \n",
      "---  ------           --------------  -----  \n",
      " 0   Unnamed: 0       18207 non-null  int64  \n",
      " 1   Name             18207 non-null  object \n",
      " 2   Age              18207 non-null  int64  \n",
      " 3   Nationality      18207 non-null  object \n",
      " 4   Overall          18207 non-null  int64  \n",
      " 5   Potential        18207 non-null  int64  \n",
      " 6   Wage             18207 non-null  object \n",
      " 7   Height           18159 non-null  object \n",
      " 8   Weight           18159 non-null  object \n",
      " 9   LS               16122 non-null  object \n",
      " 10  ST               16122 non-null  object \n",
      " 11  RS               16122 non-null  object \n",
      " 12  LW               16122 non-null  object \n",
      " 13  LF               16122 non-null  object \n",
      " 14  CF               16122 non-null  object \n",
      " 15  RF               16122 non-null  object \n",
      " 16  RW               16122 non-null  object \n",
      " 17  LAM              16122 non-null  object \n",
      " 18  CAM              16122 non-null  object \n",
      " 19  RAM              16122 non-null  object \n",
      " 20  LM               16122 non-null  object \n",
      " 21  LCM              16122 non-null  object \n",
      " 22  CM               16122 non-null  object \n",
      " 23  RCM              16122 non-null  object \n",
      " 24  RM               16122 non-null  object \n",
      " 25  LWB              16122 non-null  object \n",
      " 26  LDM              16122 non-null  object \n",
      " 27  CDM              16122 non-null  object \n",
      " 28  RDM              16122 non-null  object \n",
      " 29  RWB              16122 non-null  object \n",
      " 30  LB               16122 non-null  object \n",
      " 31  LCB              16122 non-null  object \n",
      " 32  CB               16122 non-null  object \n",
      " 33  RCB              16122 non-null  object \n",
      " 34  RB               16122 non-null  object \n",
      " 35  Crossing         18159 non-null  float64\n",
      " 36  Finishing        18159 non-null  float64\n",
      " 37  HeadingAccuracy  18159 non-null  float64\n",
      " 38  ShortPassing     18159 non-null  float64\n",
      " 39  Volleys          18159 non-null  float64\n",
      " 40  Dribbling        18159 non-null  float64\n",
      " 41  Curve            18159 non-null  float64\n",
      " 42  FKAccuracy       18159 non-null  float64\n",
      " 43  LongPassing      18159 non-null  float64\n",
      " 44  BallControl      18159 non-null  float64\n",
      " 45  Acceleration     18159 non-null  float64\n",
      " 46  SprintSpeed      18159 non-null  float64\n",
      " 47  Agility          18159 non-null  float64\n",
      " 48  Reactions        18159 non-null  float64\n",
      " 49  Balance          18159 non-null  float64\n",
      " 50  ShotPower        18159 non-null  float64\n",
      " 51  Jumping          18159 non-null  float64\n",
      " 52  Stamina          18159 non-null  float64\n",
      " 53  Strength         18159 non-null  float64\n",
      " 54  LongShots        18159 non-null  float64\n",
      " 55  Aggression       18159 non-null  float64\n",
      " 56  Interceptions    18159 non-null  float64\n",
      " 57  Positioning      18159 non-null  float64\n",
      " 58  Vision           18159 non-null  float64\n",
      " 59  Penalties        18159 non-null  float64\n",
      " 60  Composure        18159 non-null  float64\n",
      " 61  Marking          18159 non-null  float64\n",
      " 62  StandingTackle   18159 non-null  float64\n",
      " 63  SlidingTackle    18159 non-null  float64\n",
      " 64  GKDiving         18159 non-null  float64\n",
      " 65  GKHandling       18159 non-null  float64\n",
      " 66  GKKicking        18159 non-null  float64\n",
      " 67  GKPositioning    18159 non-null  float64\n",
      " 68  GKReflexes       18159 non-null  float64\n",
      "dtypes: float64(34), int64(4), object(31)\n",
      "memory usage: 9.6+ MB\n"
     ]
    }
   ],
   "source": [
    "fifaData.info()"
   ]
  },
  {
   "cell_type": "markdown",
   "id": "680f67c6",
   "metadata": {},
   "source": [
    "### Dropping the columns of data that are non-specific\n",
    "\n",
    "We also decided to drop the columns of data which contains the ratings of players when placed in every position there is. This data is non-specific and cannot be used. (why can't it be used?)\n",
    "\n",
    "A much better variable to be used is Overall, since it takes into account the average of all of the positions combined.\n",
    "\n",
    "The columns being dropped are 'LS', 'ST', 'RS', 'LW', 'LF', 'CF', 'RF', 'RW', 'LAM', 'CAM', 'RAM', \n",
    "               'LM', 'LCM', 'CM', 'RCM', 'RM', 'LWB', 'LDM', 'CDM', 'RDM', 'RWB', 'LB', \n",
    "               'LCB', 'CB', 'RCB', and 'RB'."
   ]
  },
  {
   "cell_type": "code",
   "execution_count": 7,
   "id": "52c6bcc5",
   "metadata": {},
   "outputs": [],
   "source": [
    "fifaData.drop(fifaData.iloc[:, 9:35], inplace = True, axis = 1)"
   ]
  },
  {
   "cell_type": "code",
   "execution_count": 8,
   "id": "1cb92b77",
   "metadata": {},
   "outputs": [
    {
     "name": "stdout",
     "output_type": "stream",
     "text": [
      "<class 'pandas.core.frame.DataFrame'>\n",
      "RangeIndex: 18207 entries, 0 to 18206\n",
      "Data columns (total 43 columns):\n",
      " #   Column           Non-Null Count  Dtype  \n",
      "---  ------           --------------  -----  \n",
      " 0   Unnamed: 0       18207 non-null  int64  \n",
      " 1   Name             18207 non-null  object \n",
      " 2   Age              18207 non-null  int64  \n",
      " 3   Nationality      18207 non-null  object \n",
      " 4   Overall          18207 non-null  int64  \n",
      " 5   Potential        18207 non-null  int64  \n",
      " 6   Wage             18207 non-null  object \n",
      " 7   Height           18159 non-null  object \n",
      " 8   Weight           18159 non-null  object \n",
      " 9   Crossing         18159 non-null  float64\n",
      " 10  Finishing        18159 non-null  float64\n",
      " 11  HeadingAccuracy  18159 non-null  float64\n",
      " 12  ShortPassing     18159 non-null  float64\n",
      " 13  Volleys          18159 non-null  float64\n",
      " 14  Dribbling        18159 non-null  float64\n",
      " 15  Curve            18159 non-null  float64\n",
      " 16  FKAccuracy       18159 non-null  float64\n",
      " 17  LongPassing      18159 non-null  float64\n",
      " 18  BallControl      18159 non-null  float64\n",
      " 19  Acceleration     18159 non-null  float64\n",
      " 20  SprintSpeed      18159 non-null  float64\n",
      " 21  Agility          18159 non-null  float64\n",
      " 22  Reactions        18159 non-null  float64\n",
      " 23  Balance          18159 non-null  float64\n",
      " 24  ShotPower        18159 non-null  float64\n",
      " 25  Jumping          18159 non-null  float64\n",
      " 26  Stamina          18159 non-null  float64\n",
      " 27  Strength         18159 non-null  float64\n",
      " 28  LongShots        18159 non-null  float64\n",
      " 29  Aggression       18159 non-null  float64\n",
      " 30  Interceptions    18159 non-null  float64\n",
      " 31  Positioning      18159 non-null  float64\n",
      " 32  Vision           18159 non-null  float64\n",
      " 33  Penalties        18159 non-null  float64\n",
      " 34  Composure        18159 non-null  float64\n",
      " 35  Marking          18159 non-null  float64\n",
      " 36  StandingTackle   18159 non-null  float64\n",
      " 37  SlidingTackle    18159 non-null  float64\n",
      " 38  GKDiving         18159 non-null  float64\n",
      " 39  GKHandling       18159 non-null  float64\n",
      " 40  GKKicking        18159 non-null  float64\n",
      " 41  GKPositioning    18159 non-null  float64\n",
      " 42  GKReflexes       18159 non-null  float64\n",
      "dtypes: float64(34), int64(4), object(5)\n",
      "memory usage: 6.0+ MB\n"
     ]
    }
   ],
   "source": [
    "fifaData.info()"
   ]
  },
  {
   "cell_type": "markdown",
   "id": "560416c3",
   "metadata": {},
   "source": [
    "### Dropping the columns of data that are football-related\n",
    "\n",
    "Lastly, we decided to drop the specific statistics because the aim of our project is to find out how non-football statistics determine wages.\n",
    "\n",
    "\n",
    "The columns being dropped are 'Crossing', 'Finishing', 'HeadingAccuracy', 'ShortPassing', 'Volleys', 'Dribbling', 'Curve', 'FKAccuracy', 'LongPassing', 'BallControl', 'Acceleration', 'SprintSpeed', 'Agility', 'Reactions', 'Balance', 'ShotPower', 'Jumping', 'Stamina', 'Strength', 'LongShots', 'Aggression', 'Interceptions', 'Positioning', 'Vision', 'Penalties', 'Composure', 'Marking', 'StandingTackle', 'SlidingTackle', 'GKDiving', 'GKHandling', 'GKKicking', 'GKPositioning' and 'GKReflexes'."
   ]
  },
  {
   "cell_type": "code",
   "execution_count": 9,
   "id": "db2cea1b",
   "metadata": {},
   "outputs": [],
   "source": [
    "fifaData.drop(fifaData.iloc[:, 9:43], inplace = True, axis = 1)"
   ]
  },
  {
   "cell_type": "code",
   "execution_count": 10,
   "id": "c95e6a8d",
   "metadata": {},
   "outputs": [
    {
     "name": "stdout",
     "output_type": "stream",
     "text": [
      "<class 'pandas.core.frame.DataFrame'>\n",
      "RangeIndex: 18207 entries, 0 to 18206\n",
      "Data columns (total 9 columns):\n",
      " #   Column       Non-Null Count  Dtype \n",
      "---  ------       --------------  ----- \n",
      " 0   Unnamed: 0   18207 non-null  int64 \n",
      " 1   Name         18207 non-null  object\n",
      " 2   Age          18207 non-null  int64 \n",
      " 3   Nationality  18207 non-null  object\n",
      " 4   Overall      18207 non-null  int64 \n",
      " 5   Potential    18207 non-null  int64 \n",
      " 6   Wage         18207 non-null  object\n",
      " 7   Height       18159 non-null  object\n",
      " 8   Weight       18159 non-null  object\n",
      "dtypes: int64(4), object(5)\n",
      "memory usage: 1.3+ MB\n"
     ]
    }
   ],
   "source": [
    "fifaData.info()"
   ]
  },
  {
   "cell_type": "markdown",
   "id": "54853f71",
   "metadata": {},
   "source": [
    "### Data Cleaning\n",
    "\n",
    "We will now be focussing on the variables that we are most probably going to use in determining wages. But first, we would have to clean the data appropriately so that we are able to utilise them."
   ]
  },
  {
   "cell_type": "code",
   "execution_count": 11,
   "id": "96053357",
   "metadata": {},
   "outputs": [
    {
     "data": {
      "text/html": [
       "<div>\n",
       "<style scoped>\n",
       "    .dataframe tbody tr th:only-of-type {\n",
       "        vertical-align: middle;\n",
       "    }\n",
       "\n",
       "    .dataframe tbody tr th {\n",
       "        vertical-align: top;\n",
       "    }\n",
       "\n",
       "    .dataframe thead th {\n",
       "        text-align: right;\n",
       "    }\n",
       "</style>\n",
       "<table border=\"1\" class=\"dataframe\">\n",
       "  <thead>\n",
       "    <tr style=\"text-align: right;\">\n",
       "      <th></th>\n",
       "      <th>Unnamed: 0</th>\n",
       "      <th>Name</th>\n",
       "      <th>Age</th>\n",
       "      <th>Nationality</th>\n",
       "      <th>Overall</th>\n",
       "      <th>Potential</th>\n",
       "      <th>Wage</th>\n",
       "      <th>Height</th>\n",
       "      <th>Weight</th>\n",
       "    </tr>\n",
       "  </thead>\n",
       "  <tbody>\n",
       "    <tr>\n",
       "      <th>0</th>\n",
       "      <td>0</td>\n",
       "      <td>L. Messi</td>\n",
       "      <td>31</td>\n",
       "      <td>Argentina</td>\n",
       "      <td>94</td>\n",
       "      <td>94</td>\n",
       "      <td>€565K</td>\n",
       "      <td>5'7</td>\n",
       "      <td>159lbs</td>\n",
       "    </tr>\n",
       "    <tr>\n",
       "      <th>1</th>\n",
       "      <td>1</td>\n",
       "      <td>Cristiano Ronaldo</td>\n",
       "      <td>33</td>\n",
       "      <td>Portugal</td>\n",
       "      <td>94</td>\n",
       "      <td>94</td>\n",
       "      <td>€405K</td>\n",
       "      <td>6'2</td>\n",
       "      <td>183lbs</td>\n",
       "    </tr>\n",
       "    <tr>\n",
       "      <th>2</th>\n",
       "      <td>2</td>\n",
       "      <td>Neymar Jr</td>\n",
       "      <td>26</td>\n",
       "      <td>Brazil</td>\n",
       "      <td>92</td>\n",
       "      <td>93</td>\n",
       "      <td>€290K</td>\n",
       "      <td>5'9</td>\n",
       "      <td>150lbs</td>\n",
       "    </tr>\n",
       "    <tr>\n",
       "      <th>3</th>\n",
       "      <td>3</td>\n",
       "      <td>De Gea</td>\n",
       "      <td>27</td>\n",
       "      <td>Spain</td>\n",
       "      <td>91</td>\n",
       "      <td>93</td>\n",
       "      <td>€260K</td>\n",
       "      <td>6'4</td>\n",
       "      <td>168lbs</td>\n",
       "    </tr>\n",
       "    <tr>\n",
       "      <th>4</th>\n",
       "      <td>4</td>\n",
       "      <td>K. De Bruyne</td>\n",
       "      <td>27</td>\n",
       "      <td>Belgium</td>\n",
       "      <td>91</td>\n",
       "      <td>92</td>\n",
       "      <td>€355K</td>\n",
       "      <td>5'11</td>\n",
       "      <td>154lbs</td>\n",
       "    </tr>\n",
       "  </tbody>\n",
       "</table>\n",
       "</div>"
      ],
      "text/plain": [
       "   Unnamed: 0               Name  Age Nationality  Overall  Potential   Wage  \\\n",
       "0           0           L. Messi   31   Argentina       94         94  €565K   \n",
       "1           1  Cristiano Ronaldo   33    Portugal       94         94  €405K   \n",
       "2           2          Neymar Jr   26      Brazil       92         93  €290K   \n",
       "3           3             De Gea   27       Spain       91         93  €260K   \n",
       "4           4       K. De Bruyne   27     Belgium       91         92  €355K   \n",
       "\n",
       "  Height  Weight  \n",
       "0    5'7  159lbs  \n",
       "1    6'2  183lbs  \n",
       "2    5'9  150lbs  \n",
       "3    6'4  168lbs  \n",
       "4   5'11  154lbs  "
      ]
     },
     "execution_count": 11,
     "metadata": {},
     "output_type": "execute_result"
    }
   ],
   "source": [
    "fifaData.head()"
   ]
  },
  {
   "cell_type": "code",
   "execution_count": 12,
   "id": "b7316bfa",
   "metadata": {},
   "outputs": [],
   "source": [
    "#Cleaning the Wage and making it Dtype integer instead of object\n",
    "\n",
    "fifaData['Wage'] = fifaData['Wage'].str.replace('€', '')\n",
    "fifaData['Wage'] = fifaData['Wage'].str.replace('K', '').astype(int)\n",
    "\n",
    "#Removing the rows with Wage 0\n",
    "fifaData = fifaData.loc[fifaData[\"Wage\"] != 0]\n",
    "\n",
    "#Renaming the column from Wage to Wage (in Thousands)\n",
    "fifaData = fifaData.rename(columns={'Wage': 'Wage (Thousands)'})"
   ]
  },
  {
   "cell_type": "code",
   "execution_count": 13,
   "id": "e3bebb58",
   "metadata": {},
   "outputs": [
    {
     "name": "stdout",
     "output_type": "stream",
     "text": [
      "<class 'pandas.core.frame.DataFrame'>\n",
      "Int64Index: 17966 entries, 0 to 18206\n",
      "Data columns (total 9 columns):\n",
      " #   Column            Non-Null Count  Dtype \n",
      "---  ------            --------------  ----- \n",
      " 0   Unnamed: 0        17966 non-null  int64 \n",
      " 1   Name              17966 non-null  object\n",
      " 2   Age               17966 non-null  int64 \n",
      " 3   Nationality       17966 non-null  object\n",
      " 4   Overall           17966 non-null  int64 \n",
      " 5   Potential         17966 non-null  int64 \n",
      " 6   Wage (Thousands)  17966 non-null  int64 \n",
      " 7   Height            17918 non-null  object\n",
      " 8   Weight            17918 non-null  object\n",
      "dtypes: int64(5), object(4)\n",
      "memory usage: 1.4+ MB\n"
     ]
    }
   ],
   "source": [
    "fifaData.info()"
   ]
  },
  {
   "cell_type": "code",
   "execution_count": 14,
   "id": "e0c0d265",
   "metadata": {},
   "outputs": [],
   "source": [
    "#Cleaning the Height and making it Dtype integer instead of object\n",
    "\n",
    "fifaData['Height'] = fifaData['Height'].str.replace(\"'\", \".\").astype(float)\n",
    "fifaData['Height'] = fifaData['Height'].multiply(30.48).round(1)\n",
    "\n",
    "#Renaming the column from Height to Height (cm)\n",
    "fifaData = fifaData.rename(columns={'Height': 'Height (cm)'})"
   ]
  },
  {
   "cell_type": "code",
   "execution_count": 15,
   "id": "ddbb39c3",
   "metadata": {},
   "outputs": [
    {
     "name": "stdout",
     "output_type": "stream",
     "text": [
      "<class 'pandas.core.frame.DataFrame'>\n",
      "Int64Index: 17966 entries, 0 to 18206\n",
      "Data columns (total 9 columns):\n",
      " #   Column            Non-Null Count  Dtype  \n",
      "---  ------            --------------  -----  \n",
      " 0   Unnamed: 0        17966 non-null  int64  \n",
      " 1   Name              17966 non-null  object \n",
      " 2   Age               17966 non-null  int64  \n",
      " 3   Nationality       17966 non-null  object \n",
      " 4   Overall           17966 non-null  int64  \n",
      " 5   Potential         17966 non-null  int64  \n",
      " 6   Wage (Thousands)  17966 non-null  int64  \n",
      " 7   Height (cm)       17918 non-null  float64\n",
      " 8   Weight            17918 non-null  object \n",
      "dtypes: float64(1), int64(5), object(3)\n",
      "memory usage: 1.4+ MB\n"
     ]
    }
   ],
   "source": [
    "fifaData.info()"
   ]
  },
  {
   "cell_type": "code",
   "execution_count": 16,
   "id": "5b36278c",
   "metadata": {},
   "outputs": [],
   "source": [
    "#Cleaning the Weight \n",
    "fifaData['Weight'] = fifaData['Weight'].str.replace('lbs', '')\n",
    "\n",
    "#Removing the rows with NULL Weight\n",
    "fifaData.dropna(subset=['Weight'], inplace = True)\n",
    "\n",
    "#Making Weight Dtype integer instead of object\n",
    "fifaData['Weight'] = fifaData['Weight'].astype(int)\n",
    "\n",
    "#Renaming the column from Weight to Weight (lbs)\n",
    "fifaData = fifaData.rename(columns={'Weight': 'Weight (lbs)'})"
   ]
  },
  {
   "cell_type": "code",
   "execution_count": 18,
   "id": "52130af3",
   "metadata": {},
   "outputs": [
    {
     "name": "stdout",
     "output_type": "stream",
     "text": [
      "<class 'pandas.core.frame.DataFrame'>\n",
      "Int64Index: 17918 entries, 0 to 18206\n",
      "Data columns (total 9 columns):\n",
      " #   Column            Non-Null Count  Dtype  \n",
      "---  ------            --------------  -----  \n",
      " 0   Unnamed: 0        17918 non-null  int64  \n",
      " 1   Name              17918 non-null  object \n",
      " 2   Age               17918 non-null  int64  \n",
      " 3   Nationality       17918 non-null  object \n",
      " 4   Overall           17918 non-null  int64  \n",
      " 5   Potential         17918 non-null  int64  \n",
      " 6   Wage (Thousands)  17918 non-null  int64  \n",
      " 7   Height (cm)       17918 non-null  float64\n",
      " 8   Weight (lbs)      17918 non-null  int64  \n",
      "dtypes: float64(1), int64(6), object(2)\n",
      "memory usage: 1.4+ MB\n"
     ]
    }
   ],
   "source": [
    "fifaData.info()"
   ]
  },
  {
   "cell_type": "code",
   "execution_count": 31,
   "id": "2ced1e71",
   "metadata": {},
   "outputs": [
    {
     "data": {
      "text/html": [
       "<div>\n",
       "<style scoped>\n",
       "    .dataframe tbody tr th:only-of-type {\n",
       "        vertical-align: middle;\n",
       "    }\n",
       "\n",
       "    .dataframe tbody tr th {\n",
       "        vertical-align: top;\n",
       "    }\n",
       "\n",
       "    .dataframe thead th {\n",
       "        text-align: right;\n",
       "    }\n",
       "</style>\n",
       "<table border=\"1\" class=\"dataframe\">\n",
       "  <thead>\n",
       "    <tr style=\"text-align: right;\">\n",
       "      <th></th>\n",
       "      <th>Unnamed: 0</th>\n",
       "      <th>Name</th>\n",
       "      <th>Age</th>\n",
       "      <th>Nationality</th>\n",
       "      <th>Overall</th>\n",
       "      <th>Potential</th>\n",
       "      <th>Wage (Thousands)</th>\n",
       "      <th>Height (cm)</th>\n",
       "      <th>Weight (lbs)</th>\n",
       "    </tr>\n",
       "  </thead>\n",
       "  <tbody>\n",
       "    <tr>\n",
       "      <th>0</th>\n",
       "      <td>0</td>\n",
       "      <td>L. Messi</td>\n",
       "      <td>31</td>\n",
       "      <td>Argentina</td>\n",
       "      <td>94</td>\n",
       "      <td>94</td>\n",
       "      <td>565</td>\n",
       "      <td>173.7</td>\n",
       "      <td>159</td>\n",
       "    </tr>\n",
       "    <tr>\n",
       "      <th>1</th>\n",
       "      <td>1</td>\n",
       "      <td>Cristiano Ronaldo</td>\n",
       "      <td>33</td>\n",
       "      <td>Portugal</td>\n",
       "      <td>94</td>\n",
       "      <td>94</td>\n",
       "      <td>405</td>\n",
       "      <td>189.0</td>\n",
       "      <td>183</td>\n",
       "    </tr>\n",
       "    <tr>\n",
       "      <th>2</th>\n",
       "      <td>2</td>\n",
       "      <td>Neymar Jr</td>\n",
       "      <td>26</td>\n",
       "      <td>Brazil</td>\n",
       "      <td>92</td>\n",
       "      <td>93</td>\n",
       "      <td>290</td>\n",
       "      <td>179.8</td>\n",
       "      <td>150</td>\n",
       "    </tr>\n",
       "    <tr>\n",
       "      <th>3</th>\n",
       "      <td>3</td>\n",
       "      <td>De Gea</td>\n",
       "      <td>27</td>\n",
       "      <td>Spain</td>\n",
       "      <td>91</td>\n",
       "      <td>93</td>\n",
       "      <td>260</td>\n",
       "      <td>195.1</td>\n",
       "      <td>168</td>\n",
       "    </tr>\n",
       "    <tr>\n",
       "      <th>4</th>\n",
       "      <td>4</td>\n",
       "      <td>K. De Bruyne</td>\n",
       "      <td>27</td>\n",
       "      <td>Belgium</td>\n",
       "      <td>91</td>\n",
       "      <td>92</td>\n",
       "      <td>355</td>\n",
       "      <td>155.8</td>\n",
       "      <td>154</td>\n",
       "    </tr>\n",
       "  </tbody>\n",
       "</table>\n",
       "</div>"
      ],
      "text/plain": [
       "   Unnamed: 0               Name  Age Nationality  Overall  Potential  \\\n",
       "0           0           L. Messi   31   Argentina       94         94   \n",
       "1           1  Cristiano Ronaldo   33    Portugal       94         94   \n",
       "2           2          Neymar Jr   26      Brazil       92         93   \n",
       "3           3             De Gea   27       Spain       91         93   \n",
       "4           4       K. De Bruyne   27     Belgium       91         92   \n",
       "\n",
       "   Wage (Thousands)  Height (cm)  Weight (lbs)  \n",
       "0               565        173.7           159  \n",
       "1               405        189.0           183  \n",
       "2               290        179.8           150  \n",
       "3               260        195.1           168  \n",
       "4               355        155.8           154  "
      ]
     },
     "execution_count": 31,
     "metadata": {},
     "output_type": "execute_result"
    }
   ],
   "source": [
    "fifaData.head()"
   ]
  },
  {
   "cell_type": "code",
   "execution_count": 48,
   "id": "1a155bfd",
   "metadata": {},
   "outputs": [],
   "source": [
    "q_low = fifaData[\"Wage (Thousands)\"].quantile(0.01)\n",
    "q_hi  = fifaData[\"Wage (Thousands)\"].quantile(0.99)\n",
    "\n",
    "fifaDatafiltered = fifaData[(fifaData[\"Wage (Thousands)\"] < q_hi) & (fifaData[\"Wage (Thousands)\"] > q_low)]"
   ]
  },
  {
   "cell_type": "code",
   "execution_count": 49,
   "id": "90c7047c",
   "metadata": {},
   "outputs": [
    {
     "name": "stdout",
     "output_type": "stream",
     "text": [
      "<class 'pandas.core.frame.DataFrame'>\n",
      "Int64Index: 12860 entries, 9 to 18167\n",
      "Data columns (total 9 columns):\n",
      " #   Column            Non-Null Count  Dtype  \n",
      "---  ------            --------------  -----  \n",
      " 0   Unnamed: 0        12860 non-null  int64  \n",
      " 1   Name              12860 non-null  object \n",
      " 2   Age               12860 non-null  int64  \n",
      " 3   Nationality       12860 non-null  object \n",
      " 4   Overall           12860 non-null  int64  \n",
      " 5   Potential         12860 non-null  int64  \n",
      " 6   Wage (Thousands)  12860 non-null  int64  \n",
      " 7   Height (cm)       12860 non-null  float64\n",
      " 8   Weight (lbs)      12860 non-null  int64  \n",
      "dtypes: float64(1), int64(6), object(2)\n",
      "memory usage: 1004.7+ KB\n"
     ]
    }
   ],
   "source": [
    "fifaDatafiltered.info()"
   ]
  },
  {
   "cell_type": "code",
   "execution_count": 50,
   "id": "561eae61",
   "metadata": {
    "scrolled": false
   },
   "outputs": [
    {
     "data": {
      "text/plain": [
       "<AxesSubplot:xlabel='Wage (Thousands)', ylabel='Count'>"
      ]
     },
     "execution_count": 50,
     "metadata": {},
     "output_type": "execute_result"
    },
    {
     "data": {
      "image/png": "[encoded data removed]",
      "text/plain": [
       "<Figure size 1728x864 with 1 Axes>"
      ]
     },
     "metadata": {},
     "output_type": "display_data"
    }
   ],
   "source": [
    "f = plt.figure(figsize=(24, 12))\n",
    "sb.histplot(data = fifaDatafiltered['Wage (Thousands)'])"
   ]
  },
  {
   "cell_type": "code",
   "execution_count": 68,
   "id": "5b28a74a",
   "metadata": {
    "scrolled": false
   },
   "outputs": [
    {
     "data": {
      "text/plain": [
       "<AxesSubplot:xlabel='Wage (Thousands)', ylabel='Count'>"
      ]
     },
     "execution_count": 68,
     "metadata": {},
     "output_type": "execute_result"
    },
    {
     "data": {
      "image/png": "[encoded data removed]",
      "text/plain": [
       "<Figure size 1728x864 with 6 Axes>"
      ]
     },
     "metadata": {},
     "output_type": "display_data"
    }
   ],
   "source": [
    "# Set up matplotlib figure with three subplots\n",
    "f, axes = plt.subplots(2, 3, figsize=(24, 12))\n",
    "\n",
    "sb.histplot(data = fifaDatafiltered['Potential'], ax = axes[0,0])\n",
    "sb.histplot(data = fifaDatafiltered['Overall'], ax = axes[0,1])\n",
    "sb.histplot(data = fifaDatafiltered['Age'], ax = axes[0,2])\n",
    "\n",
    "sb.histplot(data = fifaDatafiltered['Height (cm)'], ax = axes[1,0])\n",
    "sb.histplot(data = fifaDatafiltered['Weight (lbs)'], ax = axes[1,1])\n",
    "sb.histplot(data = fifaDatafiltered['Wage (Thousands)'], ax = axes[1,2])\n"
   ]
  },
  {
   "cell_type": "code",
   "execution_count": 69,
   "id": "3e6a9ec5",
   "metadata": {},
   "outputs": [
    {
     "data": {
      "text/plain": [
       "<AxesSubplot:xlabel='Wage (Thousands)', ylabel='Density'>"
      ]
     },
     "execution_count": 69,
     "metadata": {},
     "output_type": "execute_result"
    },
    {
     "data": {
      "image/png": "[encoded data removed]",
      "text/plain": [
       "<Figure size 1728x864 with 6 Axes>"
      ]
     },
     "metadata": {},
     "output_type": "display_data"
    }
   ],
   "source": [
    "# Set up matplotlib figure with three subplots\n",
    "f, axes = plt.subplots(2, 3, figsize=(24, 12))\n",
    "\n",
    "sb.kdeplot(data = fifaDatafiltered['Potential'], ax = axes[0,0])\n",
    "sb.kdeplot(data = fifaDatafiltered['Overall'], ax = axes[0,1])\n",
    "sb.kdeplot(data = fifaDatafiltered['Age'], ax = axes[0,2])\n",
    "\n",
    "sb.kdeplot(data = fifaDatafiltered['Height (cm)'], ax = axes[1,0])\n",
    "sb.kdeplot(data = fifaDatafiltered['Weight (lbs)'], ax = axes[1,1])\n",
    "sb.kdeplot(data = fifaDatafiltered['Wage (Thousands)'], ax = axes[1,2])"
   ]
  },
  {
   "cell_type": "code",
   "execution_count": 73,
   "id": "d81412a6",
   "metadata": {},
   "outputs": [
    {
     "name": "stdout",
     "output_type": "stream",
     "text": [
      "{182.9: 2044, 155.4: 1773, 179.8: 1554, 155.8: 1523, 189.0: 1446, 185.9: 1360, 192.0: 697, 176.8: 672, 173.7: 650, 195.1: 525, 170.7: 227, 198.1: 166, 167.6: 100, 201.2: 62, 164.6: 20, 204.2: 16, 161.5: 14, 158.5: 5, 207.3: 5, 210.3: 1}\n"
     ]
    }
   ],
   "source": [
    "counts = fifaDatafiltered['Height (cm)'].value_counts().to_dict()\n",
    "print (counts)"
   ]
  },
  {
   "cell_type": "code",
   "execution_count": 74,
   "id": "70db2ccd",
   "metadata": {},
   "outputs": [
    {
     "name": "stdout",
     "output_type": "stream",
     "text": [
      "Number of Primary Types : 20\n",
      "182.9    2044\n",
      "155.4    1773\n",
      "179.8    1554\n",
      "155.8    1523\n",
      "189.0    1446\n",
      "185.9    1360\n",
      "192.0     697\n",
      "176.8     672\n",
      "173.7     650\n",
      "195.1     525\n",
      "170.7     227\n",
      "198.1     166\n",
      "167.6     100\n",
      "201.2      62\n",
      "164.6      20\n",
      "204.2      16\n",
      "161.5      14\n",
      "158.5       5\n",
      "207.3       5\n",
      "210.3       1\n",
      "Name: Height (cm), dtype: int64\n"
     ]
    }
   ],
   "source": [
    "# Primary Types in the Dataset\n",
    "print(\"Number of Primary Types :\", len(fifaDatafiltered['Height (cm)'].unique()))\n",
    "\n",
    "# Pokemons of each Primary Type\n",
    "print(fifaDatafiltered['Height (cm)'].value_counts())"
   ]
  },
  {
   "cell_type": "code",
   "execution_count": null,
   "id": "8a4ddf5b",
   "metadata": {},
   "outputs": [],
   "source": []
  }
 ],
 "metadata": {
  "kernelspec": {
   "display_name": "Python 3 (ipykernel)",
   "language": "python",
   "name": "python3"
  },
  "language_info": {
   "codemirror_mode": {
    "name": "ipython",
    "version": 3
   },
   "file_extension": ".py",
   "mimetype": "text/x-python",
   "name": "python",
   "nbconvert_exporter": "python",
   "pygments_lexer": "ipython3",
   "version": "3.9.7"
  }
 },
 "nbformat": 4,
 "nbformat_minor": 5
}
